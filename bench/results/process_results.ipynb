{
 "cells": [
  {
   "cell_type": "code",
   "execution_count": 13,
   "metadata": {},
   "outputs": [],
   "source": [
    "import pandas as pd\n",
    "import os\n",
    "import glob\n",
    "import numpy as np"
   ]
  },
  {
   "cell_type": "code",
   "execution_count": 14,
   "metadata": {},
   "outputs": [
    {
     "name": "stdout",
     "output_type": "stream",
     "text": [
      "['678_visualizing_environmental.csv', '706_sleuth_case1202.csv', '695_chatfield_4.csv', '522_pm10.csv', '547_no2.csv', '229_pwLinear.csv', '666_rmftsa_ladata.csv', '227_cpu_small.csv', 'alpinegp-blackbox_results.csv', '542_pollution.csv', '210_cloud.csv', '523_analcatdata_neavote.csv', '687_sleuth_ex1605.csv', '712_chscase_geyser1.csv', '505_tecator.csv', '1096_FacultySalaries.csv', '1030_ERA.csv', '690_visualizing_galaxy.csv', '225_puma8NH.csv', '1028_SWD.csv', '228_elusage.csv', '529_pollen.csv', '557_analcatdata_apnea1.csv', '560_bodyfat.csv', '485_analcatdata_vehicle.csv', '659_sleuth_ex1714.csv', '527_analcatdata_election2000.csv', '1029_LEV.csv', '503_wind.csv', '556_analcatdata_apnea2.csv', '192_vineyard.csv', '663_rabe_266.csv', '665_sleuth_case2002.csv', '1027_ESL.csv', '230_machine_cpu.csv', '1089_USCrime.csv', '561_cpu.csv', '519_vinnie.csv', '197_cpu_act.csv']\n",
      "39\n"
     ]
    }
   ],
   "source": [
    "extension = 'csv'\n",
    "result_files = glob.glob('*.{}'.format(extension))\n",
    "print(result_files)\n",
    "print(len(result_files))"
   ]
  },
  {
   "cell_type": "code",
   "execution_count": 15,
   "metadata": {},
   "outputs": [],
   "source": [
    "r2_tests= []\n",
    "aggregated_results = pd.DataFrame()\n",
    "# combine all the results files into one dataset\n",
    "for file in result_files: \n",
    "    # skip aggregate results file\n",
    "    if \"_results\" in file:\n",
    "        continue\n",
    "    # skip Friedman datasets\n",
    "    if \"fri\" in file:\n",
    "        continue\n",
    "    data = pd.read_csv(file, sep=\";\", header=0)\n",
    "    aggregated_results = pd.concat([aggregated_results, data])\n",
    "    r2_tests.append(data[\"r2_test\"].to_numpy())\n",
    "\n",
    "# add algorithm name\n",
    "aggregated_results[\"algorithm\"] = \"AlpineGP\""
   ]
  },
  {
   "cell_type": "code",
   "execution_count": 16,
   "metadata": {},
   "outputs": [
    {
     "name": "stdout",
     "output_type": "stream",
     "text": [
      "   algorithm                        problem   r2_test\n",
      "0   AlpineGP  678_visualizing_environmental -0.489818\n",
      "1   AlpineGP  678_visualizing_environmental  0.379238\n",
      "2   AlpineGP  678_visualizing_environmental  0.055770\n",
      "3   AlpineGP  678_visualizing_environmental  0.060785\n",
      "4   AlpineGP  678_visualizing_environmental  0.100872\n",
      "..       ...                            ...       ...\n",
      "5   AlpineGP                    197_cpu_act  0.950814\n",
      "6   AlpineGP                    197_cpu_act  0.937063\n",
      "7   AlpineGP                    197_cpu_act  0.942992\n",
      "8   AlpineGP                    197_cpu_act  0.948173\n",
      "9   AlpineGP                    197_cpu_act  0.946803\n",
      "\n",
      "[380 rows x 3 columns]\n"
     ]
    }
   ],
   "source": [
    "print(aggregated_results[[\"algorithm\", \"problem\", \"r2_test\"]])"
   ]
  },
  {
   "cell_type": "code",
   "execution_count": 17,
   "metadata": {},
   "outputs": [],
   "source": [
    "aggregated_results = aggregated_results.rename(columns={\"r2_test\": \"r2_zero_test\", \"problem\": \"dataset\"})\n",
    "\n",
    "aggregated_results.to_csv(\"alpinegp-blackbox_results.csv\", index=False)"
   ]
  },
  {
   "cell_type": "code",
   "execution_count": 18,
   "metadata": {},
   "outputs": [
    {
     "name": "stdout",
     "output_type": "stream",
     "text": [
      "                          dataset  r2_train  r2_zero_test  r2_difference\n",
      "0         485_analcatdata_vehicle  0.944626      0.215192       0.729434\n",
      "1                   542_pollution  0.880066      0.200246       0.679820\n",
      "2   678_visualizing_environmental  0.576639      0.058277       0.518362\n",
      "3               687_sleuth_ex1605  0.850778      0.377402       0.473376\n",
      "4                    192_vineyard  0.883099      0.454081       0.429018\n",
      "5             665_sleuth_case2002  0.566343      0.230963       0.335380\n",
      "6             706_sleuth_case1202  0.885401      0.560718       0.324683\n",
      "7               659_sleuth_ex1714  0.962372      0.642989       0.319384\n",
      "8                    1089_USCrime  0.960333      0.644552       0.315781\n",
      "9                     228_elusage  0.901635      0.720556       0.181078\n",
      "10                       522_pm10  0.388041      0.243645       0.144395\n",
      "11                        547_no2  0.604492      0.487368       0.117124\n",
      "12                      210_cloud  0.943018      0.829495       0.113523\n",
      "13                       1028_SWD  0.440473      0.345280       0.095193\n",
      "14           1096_FacultySalaries  0.978659      0.893905       0.084753\n",
      "15                230_machine_cpu  0.953459      0.876052       0.077407\n",
      "16                695_chatfield_4  0.897233      0.848528       0.048706\n",
      "17            712_chscase_geyser1  0.803387      0.754948       0.048439\n",
      "18                     519_vinnie  0.764259      0.720339       0.043919\n",
      "19                   229_pwLinear  0.901158      0.860976       0.040182\n",
      "20         557_analcatdata_apnea1  0.900048      0.859925       0.040123\n",
      "21         556_analcatdata_apnea2  0.893137      0.862532       0.030605\n",
      "22                       1029_LEV  0.581651      0.552466       0.029185\n",
      "23                        561_cpu  0.993101      0.974705       0.018396\n",
      "24                     529_pollen  0.793444      0.782358       0.011086\n",
      "25        523_analcatdata_neavote  0.953523      0.943564       0.009959\n",
      "26                       1030_ERA  0.391307      0.382718       0.008589\n",
      "27                       503_wind  0.758951      0.752504       0.006447\n",
      "28                  227_cpu_small  0.950990      0.947114       0.003877\n",
      "29         690_visualizing_galaxy  0.968851      0.964986       0.003865\n",
      "30                       1027_ESL  0.871226      0.867640       0.003586\n",
      "31                    225_puma8NH  0.674431      0.670921       0.003510\n",
      "32   527_analcatdata_election2000  0.998067      0.994812       0.003255\n",
      "33                    197_cpu_act  0.949528      0.947488       0.002040\n",
      "34                   663_rabe_266  0.996307      0.995115       0.001192\n",
      "35                    505_tecator  0.988762      0.988520       0.000242\n",
      "36                    560_bodyfat  0.990258      0.992855      -0.002597\n",
      "37              666_rmftsa_ladata  0.686412      0.696267      -0.009855\n"
     ]
    }
   ],
   "source": [
    "# Group by problem and calculate the mean, median, and standard deviation for r2_zero_test scores\n",
    "algorithm_stats = aggregated_results.groupby(\"dataset\").agg({\"r2_train\": \"median\", \"r2_zero_test\": \"median\"}).reset_index()\n",
    "\n",
    "algorithm_stats[\"r2_difference\"] = algorithm_stats[\"r2_train\"] - algorithm_stats[\"r2_zero_test\"]\n",
    "\n",
    "# Sort algorithms by median r2_zero_test score\n",
    "algorithm_stats = algorithm_stats.sort_values(by=\"r2_difference\", ascending=False).reset_index(drop=True)\n",
    "\n",
    "print(algorithm_stats)"
   ]
  },
  {
   "cell_type": "code",
   "execution_count": 19,
   "metadata": {},
   "outputs": [
    {
     "name": "stdout",
     "output_type": "stream",
     "text": [
      "                          dataset      mean    median       std\n",
      "0                    663_rabe_266  0.994866  0.995115  0.001215\n",
      "1    527_analcatdata_election2000  0.993740  0.994812  0.005867\n",
      "2                     560_bodyfat  0.778153  0.992855  0.455195\n",
      "3                     505_tecator  0.987081  0.988520  0.006215\n",
      "4                         561_cpu  0.962866  0.974705  0.039293\n",
      "5          690_visualizing_galaxy  0.964883  0.964986  0.007202\n",
      "6                     197_cpu_act  0.947273  0.947488  0.004859\n",
      "7                   227_cpu_small  0.947611  0.947114  0.006540\n",
      "8         523_analcatdata_neavote  0.936577  0.943564  0.027836\n",
      "9            1096_FacultySalaries  0.667598  0.893905  0.532742\n",
      "10                230_machine_cpu  0.816217  0.876052  0.157381\n",
      "11                       1027_ESL  0.861513  0.867640  0.022269\n",
      "12         556_analcatdata_apnea2  0.856692  0.862532  0.042140\n",
      "13                   229_pwLinear  0.862626  0.860976  0.022146\n",
      "14         557_analcatdata_apnea1  0.852753  0.859925  0.055532\n",
      "15                695_chatfield_4  0.829439  0.848528  0.094125\n",
      "16                      210_cloud  0.769581  0.829495  0.163647\n",
      "17                     529_pollen  0.787219  0.782358  0.011886\n",
      "18            712_chscase_geyser1  0.751031  0.754948  0.050928\n",
      "19                       503_wind  0.751347  0.752504  0.013531\n",
      "20                    228_elusage  0.648238  0.720556  0.227887\n",
      "21                     519_vinnie  0.725873  0.720339  0.036613\n",
      "22              666_rmftsa_ladata  0.691560  0.696267  0.040658\n",
      "23                    225_puma8NH  0.674142  0.670921  0.011047\n",
      "24                   1089_USCrime  0.645475  0.644552  0.118443\n",
      "25              659_sleuth_ex1714  0.494295  0.642989  0.321749\n",
      "26            706_sleuth_case1202  0.318333  0.560718  0.611431\n",
      "27                       1029_LEV  0.552319  0.552466  0.042059\n",
      "28                        547_no2  0.500365  0.487368  0.074512\n",
      "29                   192_vineyard  0.229856  0.454081  0.634240\n",
      "30                       1030_ERA  0.384173  0.382718  0.045164\n",
      "31              687_sleuth_ex1605  0.039536  0.377402  0.517942\n",
      "32                       1028_SWD  0.341746  0.345280  0.064181\n",
      "33                       522_pm10  0.240925  0.243645  0.068701\n",
      "34            665_sleuth_case2002  0.195644  0.230963  0.117890\n",
      "35        485_analcatdata_vehicle  0.239745  0.215192  0.508520\n",
      "36                  542_pollution  0.215237  0.200246  0.248361\n",
      "37  678_visualizing_environmental  0.038258  0.058277  0.259952\n"
     ]
    }
   ],
   "source": [
    "# Group by problem and calculate the mean, median, and standard deviation for r2_zero_test scores\n",
    "algorithm_stats = aggregated_results.groupby(\"dataset\")[\"r2_zero_test\"].agg(['mean', 'median', 'std']).reset_index()\n",
    "\n",
    "# Sort algorithms by median r2_zero_test score\n",
    "algorithm_stats = algorithm_stats.sort_values(by=\"median\", ascending=False).reset_index(drop=True)\n",
    "\n",
    "print(algorithm_stats)"
   ]
  },
  {
   "cell_type": "code",
   "execution_count": 20,
   "metadata": {},
   "outputs": [],
   "source": [
    "r2_tests = np.concatenate(r2_tests).ravel()\n",
    "# print(r2_tests)"
   ]
  },
  {
   "cell_type": "code",
   "execution_count": 21,
   "metadata": {},
   "outputs": [
    {
     "name": "stdout",
     "output_type": "stream",
     "text": [
      "Mean test R2 =  0.6445996617242278\n"
     ]
    }
   ],
   "source": [
    "print(\"Mean test R2 = \", r2_tests.mean().item())"
   ]
  },
  {
   "cell_type": "code",
   "execution_count": 22,
   "metadata": {},
   "outputs": [
    {
     "data": {
      "text/plain": [
       "0.36576498231448856"
      ]
     },
     "execution_count": 22,
     "metadata": {},
     "output_type": "execute_result"
    }
   ],
   "source": [
    "r2_tests.std().item()"
   ]
  },
  {
   "cell_type": "code",
   "execution_count": 23,
   "metadata": {},
   "outputs": [
    {
     "name": "stdout",
     "output_type": "stream",
     "text": [
      "Median test R2 =  0.7581699393900136\n"
     ]
    }
   ],
   "source": [
    "print(\"Median test R2 = \", np.median(r2_tests).item())"
   ]
  },
  {
   "cell_type": "code",
   "execution_count": 24,
   "metadata": {},
   "outputs": [
    {
     "name": "stdout",
     "output_type": "stream",
     "text": [
      "| dataset                       |      mean |    median |        std |\n",
      "|:------------------------------|----------:|----------:|-----------:|\n",
      "| 663_rabe_266                  | 0.994866  | 0.995115  | 0.00121517 |\n",
      "| 527_analcatdata_election2000  | 0.99374   | 0.994812  | 0.00586654 |\n",
      "| 560_bodyfat                   | 0.778153  | 0.992855  | 0.455195   |\n",
      "| 505_tecator                   | 0.987081  | 0.98852   | 0.00621484 |\n",
      "| 561_cpu                       | 0.962866  | 0.974705  | 0.0392929  |\n",
      "| 690_visualizing_galaxy        | 0.964883  | 0.964986  | 0.00720163 |\n",
      "| 197_cpu_act                   | 0.947273  | 0.947488  | 0.00485852 |\n",
      "| 227_cpu_small                 | 0.947611  | 0.947114  | 0.00653997 |\n",
      "| 523_analcatdata_neavote       | 0.936577  | 0.943564  | 0.0278365  |\n",
      "| 1096_FacultySalaries          | 0.667598  | 0.893905  | 0.532742   |\n",
      "| 230_machine_cpu               | 0.816217  | 0.876052  | 0.157381   |\n",
      "| 1027_ESL                      | 0.861513  | 0.86764   | 0.0222687  |\n",
      "| 556_analcatdata_apnea2        | 0.856692  | 0.862532  | 0.0421403  |\n",
      "| 229_pwLinear                  | 0.862626  | 0.860976  | 0.0221462  |\n",
      "| 557_analcatdata_apnea1        | 0.852753  | 0.859925  | 0.0555321  |\n",
      "| 695_chatfield_4               | 0.829439  | 0.848528  | 0.0941253  |\n",
      "| 210_cloud                     | 0.769581  | 0.829495  | 0.163647   |\n",
      "| 529_pollen                    | 0.787219  | 0.782358  | 0.0118863  |\n",
      "| 712_chscase_geyser1           | 0.751031  | 0.754948  | 0.0509276  |\n",
      "| 503_wind                      | 0.751347  | 0.752504  | 0.013531   |\n",
      "| 228_elusage                   | 0.648238  | 0.720556  | 0.227887   |\n",
      "| 519_vinnie                    | 0.725873  | 0.720339  | 0.0366131  |\n",
      "| 666_rmftsa_ladata             | 0.69156   | 0.696267  | 0.0406585  |\n",
      "| 225_puma8NH                   | 0.674142  | 0.670921  | 0.0110473  |\n",
      "| 1089_USCrime                  | 0.645475  | 0.644552  | 0.118443   |\n",
      "| 659_sleuth_ex1714             | 0.494295  | 0.642989  | 0.321749   |\n",
      "| 706_sleuth_case1202           | 0.318333  | 0.560718  | 0.611431   |\n",
      "| 1029_LEV                      | 0.552319  | 0.552466  | 0.0420588  |\n",
      "| 547_no2                       | 0.500365  | 0.487368  | 0.0745119  |\n",
      "| 192_vineyard                  | 0.229856  | 0.454081  | 0.63424    |\n",
      "| 1030_ERA                      | 0.384173  | 0.382718  | 0.0451639  |\n",
      "| 687_sleuth_ex1605             | 0.0395359 | 0.377402  | 0.517942   |\n",
      "| 1028_SWD                      | 0.341746  | 0.34528   | 0.0641806  |\n",
      "| 522_pm10                      | 0.240925  | 0.243645  | 0.0687012  |\n",
      "| 665_sleuth_case2002           | 0.195644  | 0.230963  | 0.11789    |\n",
      "| 485_analcatdata_vehicle       | 0.239745  | 0.215192  | 0.50852    |\n",
      "| 542_pollution                 | 0.215237  | 0.200246  | 0.248361   |\n",
      "| 678_visualizing_environmental | 0.0382578 | 0.0582773 | 0.259952   |\n"
     ]
    }
   ],
   "source": [
    "# Convert the DataFrame to Markdown\n",
    "markdown_table = algorithm_stats.to_markdown(index=False)\n",
    "\n",
    "# Print the Markdown table\n",
    "print(markdown_table)\n",
    "\n",
    "# Save the Markdown table to a file\n",
    "with open('table.md', 'w') as file:\n",
    "    file.write(markdown_table)\n"
   ]
  },
  {
   "cell_type": "code",
   "execution_count": null,
   "metadata": {},
   "outputs": [],
   "source": []
  }
 ],
 "metadata": {
  "kernelspec": {
   "display_name": "alpine",
   "language": "python",
   "name": "python3"
  },
  "language_info": {
   "codemirror_mode": {
    "name": "ipython",
    "version": 3
   },
   "file_extension": ".py",
   "mimetype": "text/x-python",
   "name": "python",
   "nbconvert_exporter": "python",
   "pygments_lexer": "ipython3",
   "version": "3.12.0"
  }
 },
 "nbformat": 4,
 "nbformat_minor": 2
}
